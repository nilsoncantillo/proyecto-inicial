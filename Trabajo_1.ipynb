{
  "nbformat": 4,
  "nbformat_minor": 0,
  "metadata": {
    "colab": {
      "provenance": [],
      "authorship_tag": "ABX9TyNAIQDZ4lQENM4aNh1+GHRt",
      "include_colab_link": true
    },
    "kernelspec": {
      "name": "python3",
      "display_name": "Python 3"
    },
    "language_info": {
      "name": "python"
    }
  },
  "cells": [
    {
      "cell_type": "markdown",
      "metadata": {
        "id": "view-in-github",
        "colab_type": "text"
      },
      "source": [
        "<a href=\"https://colab.research.google.com/github/nilsoncantillo/proyecto-inicial/blob/main/Trabajo_1.ipynb\" target=\"_parent\"><img src=\"https://colab.research.google.com/assets/colab-badge.svg\" alt=\"Open In Colab\"/></a>"
      ]
    },
    {
      "cell_type": "code",
      "execution_count": 2,
      "metadata": {
        "colab": {
          "base_uri": "https://localhost:8080/"
        },
        "id": "64sXi3JgEVUd",
        "outputId": "b03e616e-e7cc-4e7e-a0f6-4f3e3c13b2c2"
      },
      "outputs": [
        {
          "output_type": "stream",
          "name": "stdout",
          "text": [
            "Ingrese la cantidad de metros cuadrados: 100\n",
            "Predicción para 100 m2 es: 299379\n"
          ]
        },
        {
          "output_type": "stream",
          "name": "stderr",
          "text": [
            "/tmp/ipython-input-2-2870318127.py:16: DeprecationWarning: Conversion of an array with ndim > 0 to a scalar is deprecated, and will error in future. Ensure you extract a single element from your array before performing this operation. (Deprecated NumPy 1.25.)\n",
            "  print(f\"Predicción para {metros} m2 es: {int(prediccion)}\")\n"
          ]
        }
      ],
      "source": [
        "# Machine learning Primer modelo\n",
        "from sklearn.linear_model import LinearRegression\n",
        "import numpy as np\n",
        "\n",
        "#Arreglo de m2\n",
        "x = np.array([[45], [50], [55], [60], [65], [70], [75], [80], [85], [90], [95], [100], [105], [110], [115], [48], [72], [88], [66], [102]])\n",
        "\n",
        "#Arreglo de precios\n",
        "y = np.array([137882, 151518, 161943, 181499, 194498, 210230, 226658, 240615, 254279, 270704, 284870, 301173, 313632, 329634, 341224, 157510, 222840, 263148, 193382, 308099])\n",
        "\n",
        "modelo=LinearRegression()\n",
        "modelo.fit(x,y)\n",
        "\n",
        "metros = int(input(\"Ingrese la cantidad de metros cuadrados: \"))\n",
        "prediccion = modelo.predict([[metros]])\n",
        "print(f\"Predicción para {metros} m2 es: {prediccion}\")"
      ]
    },
    {
      "cell_type": "code",
      "source": [
        "# Machine learning Segundo modelo\n",
        "import numpy as np\n",
        "from sklearn.linear_model import LinearRegression\n",
        "from sklearn.preprocessing import OneHotEncoder\n",
        "\n",
        "# === Datos simulados de entrenamiento ===\n",
        "metros = [45, 50, 55, 60, 65, 70, 75, 80, 85, 90,\n",
        "          95, 100, 105, 110, 115, 48, 72, 88, 66, 102]\n",
        "\n",
        "estrato = [2, 2, 3, 3, 3, 4, 4, 4, 4, 5,\n",
        "           5, 5, 5, 6, 6, 2, 3, 4, 3, 5]\n",
        "\n",
        "habitaciones = [1, 1, 2, 2, 2, 3, 3, 3, 3, 4,\n",
        "                4, 4, 4, 5, 5, 1, 2, 3, 2, 4]\n",
        "\n",
        "ciudades = ['Barranquilla', 'Cartagena', 'Santa Marta', 'Barranquilla', 'Cartagena',\n",
        "            'Santa Marta', 'Barranquilla', 'Cartagena', 'Santa Marta', 'Barranquilla',\n",
        "            'Cartagena', 'Santa Marta', 'Barranquilla', 'Cartagena', 'Santa Marta',\n",
        "            'Barranquilla', 'Cartagena', 'Santa Marta', 'Barranquilla', 'Cartagena']\n",
        "\n",
        "precios = [137882, 151518, 161943, 181499, 194498, 210230, 226658, 240615, 254279, 270704,\n",
        "           284870, 301173, 313632, 329634, 341224, 157510, 222840, 263148, 193382, 308099]\n",
        "\n",
        "# === Codificación One-Hot para ciudades ===\n",
        "encoder = OneHotEncoder(sparse_output=False)\n",
        "ciudades_encoded = encoder.fit_transform(np.array(ciudades).reshape(-1, 1))\n",
        "\n",
        "# === Construir la matriz de características (X) ===\n",
        "X = np.column_stack((metros, estrato, habitaciones, ciudades_encoded))\n",
        "y = np.array(precios)\n",
        "\n",
        "# === Entrenar el modelo ===\n",
        "modelo = LinearRegression()\n",
        "modelo.fit(X, y)\n",
        "\n",
        "# === Solicitar datos del usuario ===\n",
        "metros_usuario = int(input(\"Ingrese los metros cuadrados: \"))\n",
        "estrato_usuario = int(input(\"Ingrese el estrato (1 a 6): \"))\n",
        "habitaciones_usuario = int(input(\"Ingrese número de habitaciones: \"))\n",
        "ciudad_usuario = input(\"Ingrese la ciudad (Barranquilla, Cartagena, Santa Marta): \")\n",
        "\n",
        "# === Codificar ciudad del usuario ===\n",
        "ciudad_usuario_encoded = encoder.transform([[ciudad_usuario]])\n",
        "\n",
        "# === Crear vector de entrada ===\n",
        "entrada = np.hstack([[metros_usuario, estrato_usuario, habitaciones_usuario], ciudad_usuario_encoded[0]])\n",
        "\n",
        "# === Hacer predicción ===\n",
        "prediccion = modelo.predict([entrada])\n",
        "print(f\"\\nPredicción para {metros_usuario} m², estrato {estrato_usuario}, {habitaciones_usuario} habitaciones en {ciudad_usuario}: $USD {prediccion[0]:,.0f}\")\n"
      ],
      "metadata": {
        "colab": {
          "base_uri": "https://localhost:8080/"
        },
        "id": "vwSWDv2nGQkD",
        "outputId": "ed1df3c5-2401-49ac-ac36-66b1409f6308"
      },
      "execution_count": 7,
      "outputs": [
        {
          "output_type": "stream",
          "name": "stdout",
          "text": [
            "Ingrese los metros cuadrados: 105\n",
            "Ingrese el estrato (1 a 6): 4\n",
            "Ingrese número de habitaciones: 3\n",
            "Ingrese la ciudad (Barranquilla, Cartagena, Santa Marta): Barranquilla\n",
            "\n",
            "Predicción para 105 m², estrato 4, 3 habitaciones en Barranquilla: $USD 318,364\n"
          ]
        }
      ]
    }
  ]
}
